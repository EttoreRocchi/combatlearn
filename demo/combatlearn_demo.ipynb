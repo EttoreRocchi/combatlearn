{
 "cells": [
  {
   "cell_type": "markdown",
   "id": "321a7889",
   "metadata": {},
   "source": [
    "# **combatlearn**: Quick‑Start Demo\n",
    "This notebook walks through the main **combatlearn** features:\n",
    "ComBat (Johnson _et al._ 2007), neuroComBat (Fortin _et al._ 2018), and CovBat (Chen _et al._ 2022)."
   ]
  },
  {
   "cell_type": "markdown",
   "id": "9f02204f",
   "metadata": {},
   "source": [
    "```bash\n",
    "# If you haven't installed the package yet, run this:\n",
    "pip install combatlearn\n",
    "```"
   ]
  },
  {
   "cell_type": "code",
   "execution_count": null,
   "id": "2804d9ca",
   "metadata": {},
   "outputs": [],
   "source": [
    "import warnings\n",
    "warnings.filterwarnings(\"ignore\")"
   ]
  },
  {
   "cell_type": "code",
   "execution_count": null,
   "id": "e75a9085",
   "metadata": {},
   "outputs": [],
   "source": [
    "import numpy as np\n",
    "import pandas as pd\n",
    "import matplotlib.pyplot as plt\n",
    "from sklearn.decomposition import PCA\n",
    "from sklearn.model_selection import cross_val_score, train_test_split\n",
    "from sklearn.pipeline import Pipeline\n",
    "from sklearn.preprocessing import StandardScaler\n",
    "from sklearn.linear_model import LogisticRegression\n",
    "\n",
    "from combatlearn import ComBat\n",
    "\n",
    "plt.rcParams['figure.dpi'] = 120\n"
   ]
  },
  {
   "cell_type": "code",
   "execution_count": null,
   "id": "e10df6ea",
   "metadata": {},
   "outputs": [],
   "source": [
    "def plot_pca(X, labels, title):\n",
    "    pca = PCA(n_components=2)\n",
    "    pts = pca.fit_transform(X)\n",
    "    fig = plt.figure(dpi=150)\n",
    "    for b in np.unique(labels):\n",
    "        idx = labels == b\n",
    "        plt.scatter(pts[idx, 0], pts[idx, 1], label=f\"batch {b}\")\n",
    "    plt.title(title)\n",
    "    plt.xlabel('PC1')\n",
    "    plt.ylabel('PC2')\n",
    "    plt.legend()\n",
    "    plt.show()\n"
   ]
  },
  {
   "cell_type": "markdown",
   "id": "c04acb98",
   "metadata": {},
   "source": [
    "## Original data"
   ]
  },
  {
   "cell_type": "code",
   "execution_count": null,
   "id": "d477632a",
   "metadata": {},
   "outputs": [],
   "source": [
    "# Reproducibility\n",
    "rng = np.random.default_rng(42)\n",
    "\n",
    "n_samples, n_features, n_batches = 300, 50, 3\n",
    "true_signal = rng.standard_normal((n_samples, n_features))\n",
    "\n",
    "# Inject batch‑specific mean shifts\n",
    "batch_effects = rng.normal(\n",
    "    loc=np.array([0, 3, -2])[:, None],  # shape (3,1) for broadcasting\n",
    "    scale=0.5,\n",
    "    size=(n_batches, n_features)\n",
    ")\n",
    "\n",
    "batches = np.repeat(np.arange(n_batches), n_samples // n_batches)\n",
    "X = true_signal.copy()\n",
    "\n",
    "for b in range(n_batches):\n",
    "    X[batches == b] += batch_effects[b]\n",
    "\n",
    "X = pd.DataFrame(X, columns=[f\"gene_{i+1}\" for i in range(n_features)])\n",
    "batch_labels = pd.Series(batches.astype(str), name='batch')\n",
    "\n",
    "plot_pca(X.values, batch_labels.values, title='Before correction')"
   ]
  },
  {
   "cell_type": "code",
   "execution_count": null,
   "id": "c83e7eb4",
   "metadata": {},
   "outputs": [],
   "source": [
    "# Simulate a categorical (sex) and continuous (age) covariate\n",
    "sex = pd.Series(rng.choice(['M', 'F'], size=n_samples), name='sex')\n",
    "age = pd.Series(rng.uniform(20, 60, size=n_samples), name='age')"
   ]
  },
  {
   "cell_type": "markdown",
   "id": "684716e9",
   "metadata": {},
   "source": [
    "## The three methods"
   ]
  },
  {
   "cell_type": "markdown",
   "id": "95b555c5",
   "metadata": {},
   "source": [
    "### Johnson method"
   ]
  },
  {
   "cell_type": "code",
   "execution_count": null,
   "id": "3d48405e",
   "metadata": {},
   "outputs": [],
   "source": [
    "combat_johnson = ComBat(batch=batch_labels, method='johnson')\n",
    "X_johnson = combat_johnson.fit_transform(X)\n",
    "\n",
    "plot_pca(X_johnson.values, batch_labels.values, title='After Johnson')"
   ]
  },
  {
   "cell_type": "markdown",
   "id": "481df754",
   "metadata": {},
   "source": [
    "Johnson's method ignores the covariates"
   ]
  },
  {
   "cell_type": "code",
   "execution_count": null,
   "id": "dc62df4c",
   "metadata": {},
   "outputs": [],
   "source": [
    "combat_johnson_wc = ComBat(\n",
    "    batch=batch_labels,\n",
    "    discrete_covariates=sex,\n",
    "    continuous_covariates=age,\n",
    "    method='johnson',\n",
    ")\n",
    "X_johnson_wc = combat_johnson_wc.fit_transform(X)"
   ]
  },
  {
   "cell_type": "code",
   "execution_count": null,
   "id": "8ac3cd49",
   "metadata": {},
   "outputs": [],
   "source": [
    "print(\"Are all values equal?\", \"Yes\" if np.allclose(X_johnson, X_johnson_wc) else \"No\")"
   ]
  },
  {
   "cell_type": "markdown",
   "id": "dd6b2fd1",
   "metadata": {},
   "source": [
    "### Fortin method"
   ]
  },
  {
   "cell_type": "code",
   "execution_count": null,
   "id": "e3e1cc74",
   "metadata": {},
   "outputs": [],
   "source": [
    "combat_fortin = ComBat(\n",
    "    batch=batch_labels,\n",
    "    discrete_covariates=sex,\n",
    "    continuous_covariates=age,\n",
    "    method='fortin'\n",
    ")\n",
    "X_fortin = combat_fortin.fit_transform(X)\n",
    "\n",
    "plot_pca(X_fortin.values, batch_labels.values, title='After Fortin')"
   ]
  },
  {
   "cell_type": "markdown",
   "id": "5fc979db",
   "metadata": {},
   "source": [
    "### Chen method"
   ]
  },
  {
   "cell_type": "code",
   "execution_count": null,
   "id": "de05f973",
   "metadata": {},
   "outputs": [],
   "source": [
    "combat_chen = ComBat(\n",
    "    batch=batch_labels,\n",
    "    discrete_covariates=sex,\n",
    "    continuous_covariates=age,\n",
    "    method='chen',\n",
    "    covbat_cov_thresh=0.95\n",
    ")\n",
    "X_chen = combat_chen.fit_transform(X)\n",
    "\n",
    "plot_pca(X_chen.values, batch_labels.values, title='After Chen')"
   ]
  },
  {
   "cell_type": "markdown",
   "id": "cf604085",
   "metadata": {},
   "source": [
    "## Parametric versus non parametric approach"
   ]
  },
  {
   "cell_type": "code",
   "execution_count": null,
   "id": "ed1383e1",
   "metadata": {},
   "outputs": [],
   "source": [
    "combat_parametric = ComBat(\n",
    "    batch=batch_labels,\n",
    "    method='johnson',\n",
    "    parametric=True\n",
    ")\n",
    "X_parametric = combat_parametric.fit_transform(X)\n",
    "plot_pca(X_parametric.values, batch_labels.values, title='After Parametric Johnson')\n",
    "combat_non_parametric = ComBat(\n",
    "    batch=batch_labels,\n",
    "    method='johnson',\n",
    "    parametric=False\n",
    ")\n",
    "X_non_parametric = combat_non_parametric.fit_transform(X)\n",
    "plot_pca(X_non_parametric.values, batch_labels.values, title='After Non-parametric Johnson')"
   ]
  },
  {
   "cell_type": "markdown",
   "id": "19ca38e6",
   "metadata": {},
   "source": [
    "## Working with `sklearn`"
   ]
  },
  {
   "cell_type": "markdown",
   "id": "4a5fa7ce",
   "metadata": {},
   "source": [
    "Creating target"
   ]
  },
  {
   "cell_type": "code",
   "execution_count": null,
   "id": "de930816",
   "metadata": {},
   "outputs": [],
   "source": [
    "# Example: classification with a batch‑aware preprocessing pipeline\n",
    "# (Here we create a toy binary label correlated with the true signal.)\n",
    "y = (true_signal[:, 0] > 0).astype(int)"
   ]
  },
  {
   "cell_type": "markdown",
   "id": "dca7e5a2",
   "metadata": {},
   "source": [
    "### Effect of ComBat in training set and test set"
   ]
  },
  {
   "cell_type": "code",
   "execution_count": null,
   "id": "879937e8",
   "metadata": {},
   "outputs": [],
   "source": [
    "X_train, X_test, y_train, y_test = train_test_split(X, y, test_size=0.2, random_state=42)\n",
    "\n",
    "combat = ComBat(batch=batch_labels, method='johnson')\n",
    "combat.fit(X_train)\n",
    "\n",
    "plot_pca(X_train.values, batch_labels.iloc[X_train.index].values, title='Train set before ComBat')\n",
    "\n",
    "X_train_combat = combat.transform(X_train)\n",
    "plot_pca(X_train_combat.values, batch_labels.iloc[X_train_combat.index].values, title='Train set after ComBat')"
   ]
  },
  {
   "cell_type": "code",
   "execution_count": null,
   "id": "f334a62e",
   "metadata": {},
   "outputs": [],
   "source": [
    "plot_pca(X_test.values, batch_labels.iloc[X_test.index].values, title='Test set before ComBat')\n",
    "\n",
    "X_test_combat = combat.transform(X_test)\n",
    "plot_pca(X_test_combat.values, batch_labels.iloc[X_test_combat.index].values, title='Test set after ComBat')"
   ]
  },
  {
   "cell_type": "markdown",
   "id": "85771335",
   "metadata": {},
   "source": [
    "### Use of ComBat within a scikit-learn `Pipeline`"
   ]
  },
  {
   "cell_type": "code",
   "execution_count": null,
   "id": "b0b06a13",
   "metadata": {},
   "outputs": [],
   "source": [
    "pipe = Pipeline([\n",
    "    ('combat', ComBat(batch=batch_labels, method='johnson')),\n",
    "    ('scaler', StandardScaler()),\n",
    "    ('clf', LogisticRegression())\n",
    "])\n",
    "\n",
    "scores = cross_val_score(pipe, X, y, cv=5)\n",
    "print(f'Cross‑validated accuracy: {scores.mean():.3f} ± {scores.std():.3f}')"
   ]
  }
 ],
 "metadata": {
  "kernelspec": {
   "display_name": "ml",
   "language": "python",
   "name": "python3"
  },
  "language_info": {
   "codemirror_mode": {
    "name": "ipython",
    "version": 3
   },
   "file_extension": ".py",
   "mimetype": "text/x-python",
   "name": "python",
   "nbconvert_exporter": "python",
   "pygments_lexer": "ipython3",
   "version": "3.12.2"
  }
 },
 "nbformat": 4,
 "nbformat_minor": 5
}
